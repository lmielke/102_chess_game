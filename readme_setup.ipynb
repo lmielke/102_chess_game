{
 "cells": [
  {
   "cell_type": "markdown",
   "metadata": {},
   "source": [
    "# 100_django_template\n",
    "## This Notebook is for documentation only. You should not run the code directly. To use auto install, use readme_setup.py as specified below."
   ]
  },
  {
   "cell_type": "markdown",
   "metadata": {},
   "source": [
    "# 1. What am I"
   ]
  },
  {
   "cell_type": "markdown",
   "metadata": {},
   "source": [
    "This is a simple django template with some pre implemented features such as:\n",
    "- user signup, email confirmation,\n",
    "- user logon, password create/change\n",
    "- user authorization middleware\n",
    "- blog style article/blog page to allow in tool documentation and commenting\n",
    "- some param settings to allow multiple domains to map to this template (you may not need this, to remove, you have to make some changes the existing models and forms)\n",
    "- some pre defined css sheet\n",
    "\n",
    "To install in development, clone this repo and install the requirements.txt from the resources folder."
   ]
  },
  {
   "cell_type": "markdown",
   "metadata": {},
   "source": [
    "# 2. Development Setup and installation using the code below (Windows only)"
   ]
  },
  {
   "cell_type": "markdown",
   "metadata": {},
   "source": [
    "I use this installer because it meets my personal preferences. Use at own risk! Do not run this notebook directly but use readme_setup.py file instead. This will create a environment and install the requirements.txt.\n",
    "\n",
    "If on Windows, use cmds below:\n",
    "1. Clone repo into folder in which this repo will exist          --> (cd [venvs folder] && git clone https://github.com/lmielke/100_django_template.git)\n",
    "2. Copy the readme_setup.py file into your venvs folder        --> (cd 100_django_template && copy readme_setup.py .. && cd ..)\n",
    "3. Run readme_setup.py with arguments yourProjectName(repo will be renamed to) hostname(IP or localhost) --> (readme_setup.py 102_new_name http://localhost:8000)\n",
    "    NOTE: The readme_setup.py is a nbconvert of this notebook. If necessary  it can be created by typing (jupyter nbconvert --to script readme_setup.ipynb) inside the repo folder.\n",
    "4. Remove setup file --> (del/rm readme_setup.py)"
   ]
  },
  {
   "cell_type": "markdown",
   "metadata": {},
   "source": [
    "## 2.1. here comes the code"
   ]
  },
  {
   "cell_type": "code",
   "execution_count": 2,
   "metadata": {},
   "outputs": [],
   "source": [
    "import multiprocessing, os, re, shutil, subprocess, sys, time\n",
    "import argparse"
   ]
  },
  {
   "cell_type": "code",
   "execution_count": 26,
   "metadata": {},
   "outputs": [
    {
     "name": "stderr",
     "output_type": "stream",
     "text": [
      "usage: ipykernel_launcher.py [-h] [-pid PID] yourProjectName yourHost\n",
      "ipykernel_launcher.py: error: the following arguments are required: yourHost\n"
     ]
    },
    {
     "ename": "SystemExit",
     "evalue": "2",
     "output_type": "error",
     "traceback": [
      "An exception has occurred, use %tb to see the full traceback.\n",
      "\u001b[1;31mSystemExit\u001b[0m\u001b[1;31m:\u001b[0m 2\n"
     ]
    }
   ],
   "source": [
    "parser = argparse.ArgumentParser(description=\"wtf\")\n",
    "parser.add_argument('yourProjectName', help='folder Name your project will exsist as')\n",
    "parser.add_argument('yourHost', help='prod: IP, dev: http://localhost:8000')\n",
    "parser.add_argument('-pid', type=int, required=False, help='internally used pid to cancel init process')\n",
    "\n",
    "venvsPath = os.getcwd()\n",
    "cloneProjectName = \"100_django_template\"\n",
    "yourProjectName = parser.parse_args().yourProjectName\n",
    "print(f\"your new project will be in: {venvsPath}/{yourProjectName}\")\n",
    "yourProjectPath = os.path.join(venvsPath, yourProjectName)\n",
    "djProjectPath = os.path.join(yourProjectPath, \"web_project\")\n",
    "newEnvActPy = os.path.join(yourProjectPath, \"venv\", \"Scripts\", \"activate_this.py\")"
   ]
  },
  {
   "cell_type": "markdown",
   "metadata": {},
   "source": [
    "### 2.1.1. Does all install work such as rename repo, install and activate venv, run migrations"
   ]
  },
  {
   "cell_type": "code",
   "execution_count": 27,
   "metadata": {},
   "outputs": [],
   "source": [
    "def main(*args):\n",
    "    # copies dj_setup.py from your local repository to django folder (its currently added to .gitignore do not upload this to a public repo)\n",
    "    myStuffPath = os.path.join(venvsPath, \"99_snipp_block\", \"dj_conf_files\", \"my_stuff.py\")\n",
    "    existingEnvironments = os.listdir(venvsPath)\n",
    "    if yourProjectName in existingEnvironments:\n",
    "        raise Exception(f\"UUUUPPPPSSS: AN Environement with name {yourProjectName} already exists in {venvsPath} \\n{existingEnvironments}\")\n",
    "    else:\n",
    "        print(\"ready to go\")\n",
    "    os.chdir(venvsPath)\n",
    "    # renames the template to what ever name you like\n",
    "    os.rename(cloneProjectName, yourProjectName)\n",
    "    # creates the envirionment inside yourProjectPath/venv folder\n",
    "    subprocess.call([\"python\", \"-m\", \"venv\", os.path.join(yourProjectPath, \"venv\")], shell=True)\n",
    "    # this copies files to allow subprocess to activate your environment\n",
    "    shutil.copyfile(os.path.join(yourProjectPath, \"resources\", \"activate_this.py\"), newEnvActPy)\n",
    "\n",
    "    try:\n",
    "        print(myStuffPath)\n",
    "        shutil.copyfile(myStuffPath, os.path.join(yourProjectPath, \"web_project\", \"web_project\", \"my_stuff.py\"))\n",
    "    except:\n",
    "        raise Exception(\"copying my_stuff.py failed because path does not exist! You have to manually adjust my_stuff.py. Its location is same as settings.py\")\n",
    "\n",
    "    exec(open(newEnvActPy).read(), {'__file__': newEnvActPy})\n",
    "    # all relevant programs are installed and/or updated\n",
    "    # feel free to add or remove programs\n",
    "    subprocess.call([\"python\", \"-m\", \"pip\", \"install\", \"--upgrade\", \"pip\"], shell=True)\n",
    "    subprocess.call([\"pip\", \"install\", \"--upgrade\", \"setuptools\"], shell=True)\n",
    "\n",
    "    # i use pyperclip inside some service scripts, its not needed for this repo to run, you can remove it\n",
    "    subprocess.call([\"pip\", \"install\", \"pyperclip\"], shell=True)\n",
    "\n",
    "    # this installs the requirements.txt\n",
    "    subprocess.call([\"pip\", \"install\", \"-r\", os.path.join(yourProjectPath, \"resources\", \"requirements.txt\")], shell=True)\n",
    "\n",
    "    djProjectPaht = os.path.join(yourProjectPath, \"web_project\")\n",
    "    os.chdir(djProjectPaht)\n",
    "    print(f\"your manage.py is under {os.getcwd()}\")\n",
    "    subprocess.call(['python', 'manage.py', 'makemigrations'], shell=True)\n",
    "    subprocess.call(['python', 'manage.py', 'migrate'], shell=True)\n",
    "    return djProjectPath, newEnvActPy"
   ]
  },
  {
   "cell_type": "markdown",
   "metadata": {},
   "source": [
    "### 2.1.2. Runs the django dev server (manage.py runserver) to test if its there"
   ]
  },
  {
   "cell_type": "code",
   "execution_count": 28,
   "metadata": {},
   "outputs": [],
   "source": [
    "def run_server(*args):\n",
    "    exec(open(newEnvActPy).read(), dict(__file__ = newEnvActPy))\n",
    "    os.chdir(djProjectPath)\n",
    "    subprocess.call(['python', 'manage.py', 'runserver'], shell=True)\n",
    "    return True"
   ]
  },
  {
   "cell_type": "markdown",
   "metadata": {},
   "source": [
    "### 2.1.3. Tests the django dev server and kills it after response check"
   ]
  },
  {
   "cell_type": "code",
   "execution_count": 29,
   "metadata": {},
   "outputs": [],
   "source": [
    "def test_server():\n",
    "    import requests, time\n",
    "    from datetime import datetime as dt\n",
    "    from datetime import timedelta as td\n",
    "    time.sleep(5)\n",
    "    # CHPID is a comment in i_navbar_bottom.html template\n",
    "    match = re.compile(r\"(<CHPID>)(\\d{3,6})(</CHPID>)\")\n",
    "    prcId = re.search(match, requests.get(parser.parse_args().yourHost).text)[2]\n",
    "    subprocess.call(['TASKKILL', '/PID', str(prcId), '/F'], shell=True)\n",
    "    if prcId:\n",
    "        print(f\"\\n\\n\\tSUCCSESS: Server ran successfully with prcId: {prcId}\\n\\n\")\n",
    "    else:\n",
    "        print(f\"\\n\\n\\tWARNING: Server run could not be confirmed\\n\\n\")\n",
    "    return True"
   ]
  },
  {
   "cell_type": "markdown",
   "metadata": {},
   "source": [
    "### 2.1.4. This program is run in multiprocessing, in order to be able to run webserver and kill it after checking"
   ]
  },
  {
   "cell_type": "code",
   "execution_count": 3,
   "metadata": {},
   "outputs": [
    {
     "ename": "NameError",
     "evalue": "name 'venvsPath' is not defined",
     "output_type": "error",
     "traceback": [
      "\u001b[1;31m---------------------------------------------------------------------------\u001b[0m",
      "\u001b[1;31mNameError\u001b[0m                                 Traceback (most recent call last)",
      "\u001b[1;32m<ipython-input-3-edb59d1350fd>\u001b[0m in \u001b[0;36m<module>\u001b[1;34m\u001b[0m\n\u001b[0;32m      1\u001b[0m \u001b[1;32mif\u001b[0m \u001b[0m__name__\u001b[0m \u001b[1;33m==\u001b[0m \u001b[1;34m'__main__'\u001b[0m\u001b[1;33m:\u001b[0m\u001b[1;33m\u001b[0m\u001b[1;33m\u001b[0m\u001b[0m\n\u001b[1;32m----> 2\u001b[1;33m     \u001b[1;32mif\u001b[0m \u001b[1;34m\"django_template\"\u001b[0m \u001b[1;32min\u001b[0m \u001b[0mvenvsPath\u001b[0m \u001b[1;32mor\u001b[0m \u001b[1;32mnot\u001b[0m \u001b[0msys\u001b[0m\u001b[1;33m.\u001b[0m\u001b[0mpath\u001b[0m\u001b[1;33m[\u001b[0m\u001b[1;36m0\u001b[0m\u001b[1;33m]\u001b[0m\u001b[1;33m.\u001b[0m\u001b[0mendswith\u001b[0m\u001b[1;33m(\u001b[0m\u001b[1;34m\"readme_setup.py\"\u001b[0m\u001b[1;33m)\u001b[0m\u001b[1;33m:\u001b[0m\u001b[1;33m\u001b[0m\u001b[1;33m\u001b[0m\u001b[0m\n\u001b[0m\u001b[0;32m      3\u001b[0m         \u001b[1;32mraise\u001b[0m \u001b[0mException\u001b[0m\u001b[1;33m(\u001b[0m\u001b[1;34m\"HANDLING ERROR: you can not run readme_setup.py from inside the django_template folder\"\u001b[0m\u001b[1;33m)\u001b[0m\u001b[1;33m\u001b[0m\u001b[1;33m\u001b[0m\u001b[0m\n\u001b[0;32m      4\u001b[0m     \u001b[0mprcId\u001b[0m \u001b[1;33m=\u001b[0m \u001b[1;32mNone\u001b[0m\u001b[1;33m\u001b[0m\u001b[1;33m\u001b[0m\u001b[0m\n\u001b[0;32m      5\u001b[0m     \u001b[0ma\u001b[0m \u001b[1;33m=\u001b[0m \u001b[0mmultiprocessing\u001b[0m\u001b[1;33m.\u001b[0m\u001b[0mProcess\u001b[0m\u001b[1;33m(\u001b[0m\u001b[0mtarget\u001b[0m\u001b[1;33m=\u001b[0m\u001b[0mmain\u001b[0m\u001b[1;33m,\u001b[0m \u001b[0margs\u001b[0m\u001b[1;33m=\u001b[0m\u001b[1;33m(\u001b[0m\u001b[0mcloneProjectName\u001b[0m\u001b[1;33m,\u001b[0m \u001b[0myourProjectName\u001b[0m\u001b[1;33m,\u001b[0m \u001b[0mvenvsPath\u001b[0m\u001b[1;33m,\u001b[0m \u001b[0myourProjectPath\u001b[0m\u001b[1;33m,\u001b[0m \u001b[0mdjProjectPath\u001b[0m\u001b[1;33m,\u001b[0m \u001b[0mnewEnvActPy\u001b[0m\u001b[1;33m)\u001b[0m\u001b[1;33m)\u001b[0m\u001b[1;33m\u001b[0m\u001b[1;33m\u001b[0m\u001b[0m\n",
      "\u001b[1;31mNameError\u001b[0m: name 'venvsPath' is not defined"
     ]
    }
   ],
   "source": [
    "if __name__ == '__main__':\n",
    "    if \"django_template\" in venvsPath or not sys.path[0].endswith(\"readme_setup.py\"):\n",
    "        raise Exception(\"HANDLING ERROR: you can not run readme_setup.py from inside the django_template folder\")\n",
    "    prcId = None\n",
    "    a = multiprocessing.Process(target=main, args=(cloneProjectName, yourProjectName, venvsPath, yourProjectPath, djProjectPath, newEnvActPy))\n",
    "    b = multiprocessing.Process(target=run_server, args=(cloneProjectName, yourProjectName, venvsPath, yourProjectPath, djProjectPath, newEnvActPy))\n",
    "    c = multiprocessing.Process(target=test_server)\n",
    "    a.start()\n",
    "    a.join()\n",
    "    print(\"install is done\")\n",
    "    b.start()\n",
    "    c.start()\n",
    "    c.join()\n",
    "    print(f\"now deleting readme_setup.py from {os.getcwd()}\")\n",
    "    subprocess.call([\"del\", \"readme_setup.py\"], shell=True)\n",
    "    print(\"INSTALL COMPLETE\")"
   ]
  },
  {
   "cell_type": "code",
   "execution_count": null,
   "metadata": {},
   "outputs": [],
   "source": []
  }
 ],
 "metadata": {
  "kernelspec": {
   "display_name": "Python 3",
   "language": "python",
   "name": "python3"
  },
  "language_info": {
   "codemirror_mode": {
    "name": "ipython",
    "version": 3
   },
   "file_extension": ".py",
   "mimetype": "text/x-python",
   "name": "python",
   "nbconvert_exporter": "python",
   "pygments_lexer": "ipython3",
   "version": "3.7.4"
  }
 },
 "nbformat": 4,
 "nbformat_minor": 4
}
